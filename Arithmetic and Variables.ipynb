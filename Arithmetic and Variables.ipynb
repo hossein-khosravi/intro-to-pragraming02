{
 "cells": [
  {
   "cell_type": "code",
   "execution_count": 1,
   "id": "41e16e26",
   "metadata": {},
   "outputs": [
    {
     "name": "stdout",
     "output_type": "stream",
     "text": [
      "Hello, world!\n"
     ]
    }
   ],
   "source": [
    "print(\"Hello, world!\")"
   ]
  },
  {
   "cell_type": "code",
   "execution_count": 2,
   "id": "e16754bc",
   "metadata": {},
   "outputs": [
    {
     "name": "stdout",
     "output_type": "stream",
     "text": [
      "Your message here!\n"
     ]
    }
   ],
   "source": [
    "print(\"Your message here!\")"
   ]
  },
  {
   "cell_type": "code",
   "execution_count": 3,
   "id": "86960712",
   "metadata": {},
   "outputs": [
    {
     "name": "stdout",
     "output_type": "stream",
     "text": [
      "126144000\n"
     ]
    }
   ],
   "source": [
    "num_years = 4\n",
    "days_per_year = 365 \n",
    "hours_per_day = 24\n",
    "mins_per_hour = 60\n",
    "secs_per_min = 60\n",
    "\n",
    "total_secs = secs_per_min * mins_per_hour * hours_per_day * days_per_year * num_years\n",
    "print(total_secs)"
   ]
  },
  {
   "cell_type": "code",
   "execution_count": 4,
   "id": "7424b8bb",
   "metadata": {},
   "outputs": [
    {
     "name": "stdout",
     "output_type": "stream",
     "text": [
      "126144000\n"
     ]
    }
   ],
   "source": [
    "num_years=4\n",
    "days_per_year=365\n",
    "hours_per_day=24\n",
    "mins_per_hour=60\n",
    "secs_per_min=60\n",
    "total_secs= secs_per_min * mins_per_hour * hours_per_day * days_per_year * num_years\n",
    "print(total_secs)"
   ]
  },
  {
   "cell_type": "code",
   "execution_count": 5,
   "id": "4734fcb2",
   "metadata": {},
   "outputs": [],
   "source": [
    "births_per_min = 250\n",
    "# TODO: Set the value of the births_per_day variable\n",
    "births_per_day = 360000"
   ]
  },
  {
   "cell_type": "code",
   "execution_count": 6,
   "id": "b76c8dc1",
   "metadata": {},
   "outputs": [],
   "source": [
    "births_per_min = 250\n",
    "births_per_day = 360000"
   ]
  },
  {
   "cell_type": "code",
   "execution_count": 7,
   "id": "7eb0807a",
   "metadata": {},
   "outputs": [],
   "source": [
    "import pandas as pd"
   ]
  },
  {
   "cell_type": "code",
   "execution_count": 9,
   "id": "f4e0aa96",
   "metadata": {},
   "outputs": [],
   "source": [
    "titanic_data  = pd.read_csv(\"F:/excercise/New folder/train.csv\")"
   ]
  },
  {
   "cell_type": "code",
   "execution_count": 10,
   "id": "4e0693e8",
   "metadata": {},
   "outputs": [
    {
     "name": "stdout",
     "output_type": "stream",
     "text": [
      "891\n",
      "342\n",
      "113\n"
     ]
    }
   ],
   "source": [
    "total = len(titanic_data)\n",
    "print(total)\n",
    "# Number of passengers who survived\n",
    "survived = (titanic_data.Survived == 1).sum()\n",
    "print(survived)\n",
    "# Number of passengers under 18\n",
    "minors = (titanic_data.Age < 18).sum()\n",
    "print(minors)"
   ]
  },
  {
   "cell_type": "code",
   "execution_count": 11,
   "id": "1ff9dbaf",
   "metadata": {},
   "outputs": [
    {
     "name": "stdout",
     "output_type": "stream",
     "text": [
      "891\n",
      "342\n"
     ]
    }
   ],
   "source": [
    "total = len(titanic_data)\n",
    "print(total)\n",
    "# Number of passengers who survived\n",
    "survived = (titanic_data.Survived == 1).sum()\n",
    "print(survived)\n",
    "minors = (titanic_data.Age < 18).sum()"
   ]
  },
  {
   "cell_type": "code",
   "execution_count": 12,
   "id": "40b96ddb",
   "metadata": {},
   "outputs": [
    {
     "name": "stdout",
     "output_type": "stream",
     "text": [
      "0.3838383838383838\n",
      "0.12682379349046016\n"
     ]
    }
   ],
   "source": [
    "survived_fraction = 342/891\n",
    "# Print the value of the variable\n",
    "print(survived_fraction)\n",
    "# TODO: Fill in the value of the minors_fraction variable\n",
    "minors_fraction = 113/891\n",
    "# Print the value of the variable\n",
    "print(minors_fraction)"
   ]
  },
  {
   "cell_type": "code",
   "execution_count": null,
   "id": "81c07533",
   "metadata": {},
   "outputs": [],
   "source": []
  }
 ],
 "metadata": {
  "kernelspec": {
   "display_name": "Python 3 (ipykernel)",
   "language": "python",
   "name": "python3"
  },
  "language_info": {
   "codemirror_mode": {
    "name": "ipython",
    "version": 3
   },
   "file_extension": ".py",
   "mimetype": "text/x-python",
   "name": "python",
   "nbconvert_exporter": "python",
   "pygments_lexer": "ipython3",
   "version": "3.9.12"
  }
 },
 "nbformat": 4,
 "nbformat_minor": 5
}
