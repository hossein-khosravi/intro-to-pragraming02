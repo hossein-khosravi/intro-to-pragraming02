{
 "cells": [
  {
   "cell_type": "code",
   "execution_count": 1,
   "id": "e912de01",
   "metadata": {},
   "outputs": [],
   "source": [
    "def get_expected_cost(beds, baths):\n",
    "    value = beds*30000+baths*10000+80000\n",
    "    return value"
   ]
  },
  {
   "cell_type": "code",
   "execution_count": 3,
   "id": "f3b0144e",
   "metadata": {},
   "outputs": [
    {
     "name": "stdout",
     "output_type": "stream",
     "text": [
      "170000\n",
      "190000\n",
      "200000\n",
      "210000\n"
     ]
    }
   ],
   "source": [
    "option_one = get_expected_cost(2,3)\n",
    "option_two = get_expected_cost(3,2)\n",
    "option_three = get_expected_cost(3,3)\n",
    "option_four = get_expected_cost(3,4)\n",
    "\n",
    "print(option_one)\n",
    "print(option_two)\n",
    "print(option_three)\n",
    "print(option_four)"
   ]
  },
  {
   "cell_type": "code",
   "execution_count": 4,
   "id": "da28e913",
   "metadata": {},
   "outputs": [],
   "source": [
    "def get_cost(sqft_walls, sqft_ceiling, sqft_per_gallon, cost_per_gallon):\n",
    "    total_sqft = sqft_walls + sqft_ceiling\n",
    "    gallons_needed = total_sqft / sqft_per_gallon\n",
    "    cost = cost_per_gallon * gallons_needed\n",
    "\n",
    "    return cost\n"
   ]
  },
  {
   "cell_type": "code",
   "execution_count": 5,
   "id": "8fbc26b9",
   "metadata": {},
   "outputs": [],
   "source": [
    "project_cost = get_cost(432, 144, 400, 15) "
   ]
  },
  {
   "cell_type": "code",
   "execution_count": 7,
   "id": "9cc3de25",
   "metadata": {},
   "outputs": [
    {
     "name": "stdout",
     "output_type": "stream",
     "text": [
      "3\n"
     ]
    }
   ],
   "source": [
    "import math\n",
    "test_value = 2.17\n",
    "rounded_value = math.ceil(test_value)\n",
    "print(rounded_value)"
   ]
  },
  {
   "cell_type": "code",
   "execution_count": 8,
   "id": "42ef0030",
   "metadata": {},
   "outputs": [],
   "source": [
    "def get_actual_cost(sqft_walls, sqft_ceiling, sqft_per_gallon, cost_per_gallon):\n",
    "    total_sqft = sqft_walls + sqft_ceiling\n",
    "    gallons_needed = total_sqft / sqft_per_gallon\n",
    "    gallons_to_buy = math.ceil(gallons_needed)\n",
    "    cost = cost_per"
   ]
  },
  {
   "cell_type": "code",
   "execution_count": 9,
   "id": "2c49b1b7",
   "metadata": {},
   "outputs": [
    {
     "ename": "NameError",
     "evalue": "name 'cost_per' is not defined",
     "output_type": "error",
     "traceback": [
      "\u001b[1;31m---------------------------------------------------------------------------\u001b[0m",
      "\u001b[1;31mNameError\u001b[0m                                 Traceback (most recent call last)",
      "Input \u001b[1;32mIn [9]\u001b[0m, in \u001b[0;36m<cell line: 1>\u001b[1;34m()\u001b[0m\n\u001b[1;32m----> 1\u001b[0m \u001b[43mget_actual_cost\u001b[49m\u001b[43m(\u001b[49m\u001b[38;5;241;43m432\u001b[39;49m\u001b[43m,\u001b[49m\u001b[43m \u001b[49m\u001b[38;5;241;43m144\u001b[39;49m\u001b[43m,\u001b[49m\u001b[43m \u001b[49m\u001b[38;5;241;43m400\u001b[39;49m\u001b[43m,\u001b[49m\u001b[43m \u001b[49m\u001b[38;5;241;43m15\u001b[39;49m\u001b[43m)\u001b[49m\n",
      "Input \u001b[1;32mIn [8]\u001b[0m, in \u001b[0;36mget_actual_cost\u001b[1;34m(sqft_walls, sqft_ceiling, sqft_per_gallon, cost_per_gallon)\u001b[0m\n\u001b[0;32m      3\u001b[0m gallons_needed \u001b[38;5;241m=\u001b[39m total_sqft \u001b[38;5;241m/\u001b[39m sqft_per_gallon\n\u001b[0;32m      4\u001b[0m gallons_to_buy \u001b[38;5;241m=\u001b[39m math\u001b[38;5;241m.\u001b[39mceil(gallons_needed)\n\u001b[1;32m----> 5\u001b[0m cost \u001b[38;5;241m=\u001b[39m \u001b[43mcost_per\u001b[49m\n",
      "\u001b[1;31mNameError\u001b[0m: name 'cost_per' is not defined"
     ]
    }
   ],
   "source": [
    "get_actual_cost(432, 144, 400, 15) "
   ]
  },
  {
   "cell_type": "code",
   "execution_count": null,
   "id": "e5b8bd13",
   "metadata": {},
   "outputs": [],
   "source": []
  }
 ],
 "metadata": {
  "kernelspec": {
   "display_name": "Python 3 (ipykernel)",
   "language": "python",
   "name": "python3"
  },
  "language_info": {
   "codemirror_mode": {
    "name": "ipython",
    "version": 3
   },
   "file_extension": ".py",
   "mimetype": "text/x-python",
   "name": "python",
   "nbconvert_exporter": "python",
   "pygments_lexer": "ipython3",
   "version": "3.9.12"
  }
 },
 "nbformat": 4,
 "nbformat_minor": 5
}
